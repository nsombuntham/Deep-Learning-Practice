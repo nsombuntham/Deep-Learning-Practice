{
 "cells": [
  {
   "cell_type": "markdown",
   "metadata": {},
   "source": [
    "# Softmax exercise\n",
    "\n",
    "*Complete and hand in this completed worksheet (including its outputs and any supporting code outside of the worksheet) with your assignment submission. For more details see the [assignments page](http://vision.stanford.edu/teaching/cs231n/assignments.html) on the course website.*\n",
    "\n",
    "This exercise is analogous to the SVM exercise. You will:\n",
    "\n",
    "- implement a fully-vectorized **loss function** for the Softmax classifier\n",
    "- implement the fully-vectorized expression for its **analytic gradient**\n",
    "- **check your implementation** with numerical gradient\n",
    "- use a validation set to **tune the learning rate and regularization** strength\n",
    "- **optimize** the loss function with **SGD**\n",
    "- **visualize** the final learned weights\n"
   ]
  },
  {
   "cell_type": "code",
   "execution_count": 1,
   "metadata": {
    "collapsed": false
   },
   "outputs": [],
   "source": [
    "import random\n",
    "import numpy as np\n",
    "from cs231n.data_utils import load_CIFAR10\n",
    "import matplotlib.pyplot as plt\n",
    "\n",
    "from __future__ import print_function\n",
    "\n",
    "%matplotlib inline\n",
    "plt.rcParams['figure.figsize'] = (10.0, 8.0) # set default size of plots\n",
    "plt.rcParams['image.interpolation'] = 'nearest'\n",
    "plt.rcParams['image.cmap'] = 'gray'\n",
    "\n",
    "# for auto-reloading extenrnal modules\n",
    "# see http://stackoverflow.com/questions/1907993/autoreload-of-modules-in-ipython\n",
    "%load_ext autoreload\n",
    "%autoreload 2"
   ]
  },
  {
   "cell_type": "code",
   "execution_count": 2,
   "metadata": {
    "collapsed": false
   },
   "outputs": [
    {
     "name": "stdout",
     "output_type": "stream",
     "text": [
      "Train data shape:  (49000, 3073)\n",
      "Train labels shape:  (49000,)\n",
      "Validation data shape:  (1000, 3073)\n",
      "Validation labels shape:  (1000,)\n",
      "Test data shape:  (1000, 3073)\n",
      "Test labels shape:  (1000,)\n",
      "dev data shape:  (500, 3073)\n",
      "dev labels shape:  (500,)\n"
     ]
    }
   ],
   "source": [
    "def get_CIFAR10_data(num_training=49000, num_validation=1000, num_test=1000, num_dev=500):\n",
    "    \"\"\"\n",
    "    Load the CIFAR-10 dataset from disk and perform preprocessing to prepare\n",
    "    it for the linear classifier. These are the same steps as we used for the\n",
    "    SVM, but condensed to a single function.  \n",
    "    \"\"\"\n",
    "    # Load the raw CIFAR-10 data\n",
    "    cifar10_dir = 'cs231n/datasets/cifar-10-batches-py'\n",
    "    X_train, y_train, X_test, y_test = load_CIFAR10(cifar10_dir)\n",
    "    \n",
    "    # subsample the data\n",
    "    mask = list(range(num_training, num_training + num_validation))\n",
    "    X_val = X_train[mask]\n",
    "    y_val = y_train[mask]\n",
    "    mask = list(range(num_training))\n",
    "    X_train = X_train[mask]\n",
    "    y_train = y_train[mask]\n",
    "    mask = list(range(num_test))\n",
    "    X_test = X_test[mask]\n",
    "    y_test = y_test[mask]\n",
    "    mask = np.random.choice(num_training, num_dev, replace=False)\n",
    "    X_dev = X_train[mask]\n",
    "    y_dev = y_train[mask]\n",
    "    \n",
    "    # Preprocessing: reshape the image data into rows\n",
    "    X_train = np.reshape(X_train, (X_train.shape[0], -1))\n",
    "    X_val = np.reshape(X_val, (X_val.shape[0], -1))\n",
    "    X_test = np.reshape(X_test, (X_test.shape[0], -1))\n",
    "    X_dev = np.reshape(X_dev, (X_dev.shape[0], -1))\n",
    "    \n",
    "    # Normalize the data: subtract the mean image\n",
    "    mean_image = np.mean(X_train, axis = 0)\n",
    "    X_train -= mean_image\n",
    "    X_val -= mean_image\n",
    "    X_test -= mean_image\n",
    "    X_dev -= mean_image\n",
    "    \n",
    "    # add bias dimension and transform into columns\n",
    "    X_train = np.hstack([X_train, np.ones((X_train.shape[0], 1))])\n",
    "    X_val = np.hstack([X_val, np.ones((X_val.shape[0], 1))])\n",
    "    X_test = np.hstack([X_test, np.ones((X_test.shape[0], 1))])\n",
    "    X_dev = np.hstack([X_dev, np.ones((X_dev.shape[0], 1))])\n",
    "    \n",
    "    return X_train, y_train, X_val, y_val, X_test, y_test, X_dev, y_dev\n",
    "\n",
    "\n",
    "# Invoke the above function to get our data.\n",
    "X_train, y_train, X_val, y_val, X_test, y_test, X_dev, y_dev = get_CIFAR10_data()\n",
    "print('Train data shape: ', X_train.shape)\n",
    "print('Train labels shape: ', y_train.shape)\n",
    "print('Validation data shape: ', X_val.shape)\n",
    "print('Validation labels shape: ', y_val.shape)\n",
    "print('Test data shape: ', X_test.shape)\n",
    "print('Test labels shape: ', y_test.shape)\n",
    "print('dev data shape: ', X_dev.shape)\n",
    "print('dev labels shape: ', y_dev.shape)"
   ]
  },
  {
   "cell_type": "markdown",
   "metadata": {},
   "source": [
    "## Softmax Classifier\n",
    "\n",
    "Your code for this section will all be written inside **cs231n/classifiers/softmax.py**. \n"
   ]
  },
  {
   "cell_type": "code",
   "execution_count": 3,
   "metadata": {
    "collapsed": false
   },
   "outputs": [
    {
     "name": "stdout",
     "output_type": "stream",
     "text": [
      "loss: 2.361898\n",
      "sanity check: 2.302585\n"
     ]
    }
   ],
   "source": [
    "# First implement the naive softmax loss function with nested loops.\n",
    "# Open the file cs231n/classifiers/softmax.py and implement the\n",
    "# softmax_loss_naive function.\n",
    "\n",
    "from cs231n.classifiers.softmax import softmax_loss_naive\n",
    "import time\n",
    "\n",
    "# Generate a random softmax weight matrix and use it to compute the loss.\n",
    "W = np.random.randn(3073, 10) * 0.0001\n",
    "loss, grad = softmax_loss_naive(W, X_dev, y_dev, 0.0)\n",
    "\n",
    "# As a rough sanity check, our loss should be something close to -log(0.1).\n",
    "print('loss: %f' % loss)\n",
    "print('sanity check: %f' % (-np.log(0.1)))"
   ]
  },
  {
   "cell_type": "markdown",
   "metadata": {},
   "source": [
    "## Inline Question 1:\n",
    "Why do we expect our loss to be close to -log(0.1)? Explain briefly.**\n",
    "\n",
    "**Your answer:** *Fill this in*\n"
   ]
  },
  {
   "cell_type": "code",
   "execution_count": 5,
   "metadata": {
    "collapsed": false
   },
   "outputs": [
    {
     "name": "stdout",
     "output_type": "stream",
     "text": [
      "numerical: 2.845622 analytic: 2.845622, relative error: 8.662757e-09\n",
      "numerical: 1.015007 analytic: 1.015007, relative error: 1.709580e-09\n",
      "numerical: -1.844503 analytic: -1.844503, relative error: 1.682295e-08\n",
      "numerical: 0.667986 analytic: 0.667986, relative error: 8.259597e-08\n",
      "numerical: 1.424428 analytic: 1.424428, relative error: 5.763928e-08\n",
      "numerical: -0.122800 analytic: -0.122800, relative error: 2.205723e-07\n",
      "numerical: -1.235524 analytic: -1.235524, relative error: 2.174270e-08\n",
      "numerical: -5.843051 analytic: -5.843051, relative error: 6.961331e-10\n",
      "numerical: -1.931102 analytic: -1.931102, relative error: 2.472713e-09\n",
      "numerical: 3.807768 analytic: 3.807768, relative error: 4.875029e-09\n",
      "numerical: -4.917875 analytic: -4.917875, relative error: 4.330951e-09\n",
      "numerical: 1.747485 analytic: 1.747485, relative error: 3.474842e-08\n",
      "numerical: -0.648264 analytic: -0.648264, relative error: 6.339091e-08\n",
      "numerical: 1.385054 analytic: 1.385054, relative error: 1.212481e-08\n",
      "numerical: 2.232657 analytic: 2.232657, relative error: 2.542631e-08\n",
      "numerical: 4.619236 analytic: 4.619236, relative error: 4.521452e-09\n",
      "numerical: 1.350107 analytic: 1.350107, relative error: 6.417397e-08\n",
      "numerical: 2.921353 analytic: 2.921353, relative error: 1.516541e-08\n",
      "numerical: 2.751294 analytic: 2.751294, relative error: 1.497655e-08\n",
      "numerical: -0.778624 analytic: -0.778624, relative error: 3.423767e-08\n"
     ]
    }
   ],
   "source": [
    "# Complete the implementation of softmax_loss_naive and implement a (naive)\n",
    "# version of the gradient that uses nested loops.\n",
    "loss, grad = softmax_loss_naive(W, X_dev, y_dev, 0.0)\n",
    "\n",
    "# As we did for the SVM, use numeric gradient checking as a debugging tool.\n",
    "# The numeric gradient should be close to the analytic gradient.\n",
    "from cs231n.gradient_check import grad_check_sparse\n",
    "f = lambda w: softmax_loss_naive(w, X_dev, y_dev, 0.0)[0]\n",
    "grad_numerical = grad_check_sparse(f, W, grad, 10)\n",
    "\n",
    "# similar to SVM case, do another gradient check with regularization\n",
    "loss, grad = softmax_loss_naive(W, X_dev, y_dev, 5e1)\n",
    "f = lambda w: softmax_loss_naive(w, X_dev, y_dev, 5e1)[0]\n",
    "grad_numerical = grad_check_sparse(f, W, grad, 10)"
   ]
  },
  {
   "cell_type": "code",
   "execution_count": 18,
   "metadata": {
    "collapsed": false
   },
   "outputs": [
    {
     "name": "stdout",
     "output_type": "stream",
     "text": [
      "naive loss: 2.361898e+00 computed in 0.165671s\n",
      "vectorized loss: 2.361898e+00 computed in 0.002863s\n",
      "Loss difference: 0.000000\n",
      "Gradient difference: 0.000000\n"
     ]
    }
   ],
   "source": [
    "# Now that we have a naive implementation of the softmax loss function and its gradient,\n",
    "# implement a vectorized version in softmax_loss_vectorized.\n",
    "# The two versions should compute the same results, but the vectorized version should be\n",
    "# much faster.\n",
    "tic = time.time()\n",
    "loss_naive, grad_naive = softmax_loss_naive(W, X_dev, y_dev, 0.000005)\n",
    "toc = time.time()\n",
    "print('naive loss: %e computed in %fs' % (loss_naive, toc - tic))\n",
    "\n",
    "from cs231n.classifiers.softmax import softmax_loss_vectorized\n",
    "tic = time.time()\n",
    "loss_vectorized, grad_vectorized = softmax_loss_vectorized(W, X_dev, y_dev, 0.000005)\n",
    "toc = time.time()\n",
    "print('vectorized loss: %e computed in %fs' % (loss_vectorized, toc - tic))\n",
    "\n",
    "# As we did for the SVM, we use the Frobenius norm to compare the two versions\n",
    "# of the gradient.\n",
    "grad_difference = np.linalg.norm(grad_naive - grad_vectorized, ord='fro')\n",
    "print('Loss difference: %f' % np.abs(loss_naive - loss_vectorized))\n",
    "print('Gradient difference: %f' % grad_difference)"
   ]
  },
  {
   "cell_type": "code",
   "execution_count": 21,
   "metadata": {
    "collapsed": false
   },
   "outputs": [
    {
     "name": "stdout",
     "output_type": "stream",
     "text": [
      "1e-05 3162.27766017 0.223\n",
      "1e-05 5274.9970637 0.275\n"
     ]
    },
    {
     "name": "stderr",
     "output_type": "stream",
     "text": [
      "/home/nsombunt/Documents/cs231n/assignment1/cs231n/classifiers/softmax.py:78: RuntimeWarning: overflow encountered in double_scalars\n",
      "  loss += reg * np.sum(W * W)\n",
      "/home/nsombunt/Documents/cs231n/assignment1/cs231n/classifiers/softmax.py:78: RuntimeWarning: overflow encountered in multiply\n",
      "  loss += reg * np.sum(W * W)\n",
      "/home/nsombunt/Documents/cs231n/assignment1/cs231n/classifiers/softmax.py:85: RuntimeWarning: overflow encountered in multiply\n",
      "  \n"
     ]
    },
    {
     "name": "stdout",
     "output_type": "stream",
     "text": [
      "4.64158883361e-06 3162.27766017 0.353\n",
      "2.15443469003e-06 3162.27766017 0.379\n",
      "1e-06 3162.27766017 0.386\n"
     ]
    },
    {
     "name": "stderr",
     "output_type": "stream",
     "text": [
      "/home/nsombunt/Documents/cs231n/assignment1/cs231n/classifiers/softmax.py:74: RuntimeWarning: invalid value encountered in subtract\n",
      "  scores = scores - np.max(scores, axis=1)[:,np.newaxis] # stabilize\n"
     ]
    },
    {
     "name": "stdout",
     "output_type": "stream",
     "text": [
      "lr 1.000000e-08 reg 3.162278e+03 train accuracy: 0.139163 val accuracy: 0.141000\n",
      "lr 1.000000e-08 reg 5.274997e+03 train accuracy: 0.119939 val accuracy: 0.121000\n",
      "lr 1.000000e-08 reg 8.799225e+03 train accuracy: 0.145429 val accuracy: 0.162000\n",
      "lr 1.000000e-08 reg 1.467799e+04 train accuracy: 0.118776 val accuracy: 0.121000\n",
      "lr 1.000000e-08 reg 2.448437e+04 train accuracy: 0.152020 val accuracy: 0.157000\n",
      "lr 1.000000e-08 reg 4.084239e+04 train accuracy: 0.177959 val accuracy: 0.185000\n",
      "lr 1.000000e-08 reg 6.812921e+04 train accuracy: 0.120286 val accuracy: 0.134000\n",
      "lr 1.000000e-08 reg 1.136464e+05 train accuracy: 0.274714 val accuracy: 0.277000\n",
      "lr 1.000000e-08 reg 1.895736e+05 train accuracy: 0.184163 val accuracy: 0.179000\n",
      "lr 1.000000e-08 reg 3.162278e+05 train accuracy: 0.213633 val accuracy: 0.210000\n",
      "lr 2.154435e-08 reg 3.162278e+03 train accuracy: 0.142347 val accuracy: 0.139000\n",
      "lr 2.154435e-08 reg 5.274997e+03 train accuracy: 0.145286 val accuracy: 0.146000\n",
      "lr 2.154435e-08 reg 8.799225e+03 train accuracy: 0.145857 val accuracy: 0.148000\n",
      "lr 2.154435e-08 reg 1.467799e+04 train accuracy: 0.149939 val accuracy: 0.129000\n",
      "lr 2.154435e-08 reg 2.448437e+04 train accuracy: 0.145143 val accuracy: 0.131000\n",
      "lr 2.154435e-08 reg 4.084239e+04 train accuracy: 0.157816 val accuracy: 0.163000\n",
      "lr 2.154435e-08 reg 6.812921e+04 train accuracy: 0.186510 val accuracy: 0.197000\n",
      "lr 2.154435e-08 reg 1.136464e+05 train accuracy: 0.234041 val accuracy: 0.263000\n",
      "lr 2.154435e-08 reg 1.895736e+05 train accuracy: 0.264755 val accuracy: 0.267000\n",
      "lr 2.154435e-08 reg 3.162278e+05 train accuracy: 0.266102 val accuracy: 0.278000\n",
      "lr 4.641589e-08 reg 3.162278e+03 train accuracy: 0.160592 val accuracy: 0.153000\n",
      "lr 4.641589e-08 reg 5.274997e+03 train accuracy: 0.179837 val accuracy: 0.198000\n",
      "lr 4.641589e-08 reg 8.799225e+03 train accuracy: 0.191163 val accuracy: 0.209000\n",
      "lr 4.641589e-08 reg 1.467799e+04 train accuracy: 0.198980 val accuracy: 0.204000\n",
      "lr 4.641589e-08 reg 2.448437e+04 train accuracy: 0.219000 val accuracy: 0.204000\n",
      "lr 4.641589e-08 reg 4.084239e+04 train accuracy: 0.260633 val accuracy: 0.273000\n",
      "lr 4.641589e-08 reg 6.812921e+04 train accuracy: 0.284286 val accuracy: 0.307000\n",
      "lr 4.641589e-08 reg 1.136464e+05 train accuracy: 0.282429 val accuracy: 0.303000\n",
      "lr 4.641589e-08 reg 1.895736e+05 train accuracy: 0.270388 val accuracy: 0.280000\n",
      "lr 4.641589e-08 reg 3.162278e+05 train accuracy: 0.260061 val accuracy: 0.271000\n",
      "lr 1.000000e-07 reg 3.162278e+03 train accuracy: 0.212265 val accuracy: 0.200000\n",
      "lr 1.000000e-07 reg 5.274997e+03 train accuracy: 0.223306 val accuracy: 0.231000\n",
      "lr 1.000000e-07 reg 8.799225e+03 train accuracy: 0.239837 val accuracy: 0.227000\n",
      "lr 1.000000e-07 reg 1.467799e+04 train accuracy: 0.278347 val accuracy: 0.273000\n",
      "lr 1.000000e-07 reg 2.448437e+04 train accuracy: 0.306347 val accuracy: 0.319000\n",
      "lr 1.000000e-07 reg 4.084239e+04 train accuracy: 0.316816 val accuracy: 0.335000\n",
      "lr 1.000000e-07 reg 6.812921e+04 train accuracy: 0.299306 val accuracy: 0.310000\n",
      "lr 1.000000e-07 reg 1.136464e+05 train accuracy: 0.283245 val accuracy: 0.300000\n",
      "lr 1.000000e-07 reg 1.895736e+05 train accuracy: 0.265592 val accuracy: 0.272000\n",
      "lr 1.000000e-07 reg 3.162278e+05 train accuracy: 0.273469 val accuracy: 0.285000\n",
      "lr 2.154435e-07 reg 3.162278e+03 train accuracy: 0.267143 val accuracy: 0.270000\n",
      "lr 2.154435e-07 reg 5.274997e+03 train accuracy: 0.298490 val accuracy: 0.316000\n",
      "lr 2.154435e-07 reg 8.799225e+03 train accuracy: 0.326694 val accuracy: 0.332000\n",
      "lr 2.154435e-07 reg 1.467799e+04 train accuracy: 0.341327 val accuracy: 0.364000\n",
      "lr 2.154435e-07 reg 2.448437e+04 train accuracy: 0.330653 val accuracy: 0.329000\n",
      "lr 2.154435e-07 reg 4.084239e+04 train accuracy: 0.308163 val accuracy: 0.330000\n",
      "lr 2.154435e-07 reg 6.812921e+04 train accuracy: 0.306755 val accuracy: 0.318000\n",
      "lr 2.154435e-07 reg 1.136464e+05 train accuracy: 0.286367 val accuracy: 0.303000\n",
      "lr 2.154435e-07 reg 1.895736e+05 train accuracy: 0.265898 val accuracy: 0.271000\n",
      "lr 2.154435e-07 reg 3.162278e+05 train accuracy: 0.256469 val accuracy: 0.274000\n",
      "lr 4.641589e-07 reg 3.162278e+03 train accuracy: 0.347347 val accuracy: 0.370000\n",
      "lr 4.641589e-07 reg 5.274997e+03 train accuracy: 0.359796 val accuracy: 0.369000\n",
      "lr 4.641589e-07 reg 8.799225e+03 train accuracy: 0.363367 val accuracy: 0.372000\n",
      "lr 4.641589e-07 reg 1.467799e+04 train accuracy: 0.341224 val accuracy: 0.343000\n",
      "lr 4.641589e-07 reg 2.448437e+04 train accuracy: 0.330816 val accuracy: 0.350000\n",
      "lr 4.641589e-07 reg 4.084239e+04 train accuracy: 0.300980 val accuracy: 0.314000\n",
      "lr 4.641589e-07 reg 6.812921e+04 train accuracy: 0.302449 val accuracy: 0.320000\n",
      "lr 4.641589e-07 reg 1.136464e+05 train accuracy: 0.279408 val accuracy: 0.285000\n",
      "lr 4.641589e-07 reg 1.895736e+05 train accuracy: 0.268184 val accuracy: 0.273000\n",
      "lr 4.641589e-07 reg 3.162278e+05 train accuracy: 0.255408 val accuracy: 0.262000\n",
      "lr 1.000000e-06 reg 3.162278e+03 train accuracy: 0.383939 val accuracy: 0.386000\n",
      "lr 1.000000e-06 reg 5.274997e+03 train accuracy: 0.364694 val accuracy: 0.379000\n",
      "lr 1.000000e-06 reg 8.799225e+03 train accuracy: 0.354714 val accuracy: 0.370000\n",
      "lr 1.000000e-06 reg 1.467799e+04 train accuracy: 0.333265 val accuracy: 0.326000\n",
      "lr 1.000000e-06 reg 2.448437e+04 train accuracy: 0.303551 val accuracy: 0.318000\n",
      "lr 1.000000e-06 reg 4.084239e+04 train accuracy: 0.285061 val accuracy: 0.297000\n",
      "lr 1.000000e-06 reg 6.812921e+04 train accuracy: 0.294204 val accuracy: 0.308000\n",
      "lr 1.000000e-06 reg 1.136464e+05 train accuracy: 0.276000 val accuracy: 0.294000\n",
      "lr 1.000000e-06 reg 1.895736e+05 train accuracy: 0.233367 val accuracy: 0.223000\n",
      "lr 1.000000e-06 reg 3.162278e+05 train accuracy: 0.227163 val accuracy: 0.241000\n",
      "lr 2.154435e-06 reg 3.162278e+03 train accuracy: 0.374551 val accuracy: 0.379000\n",
      "lr 2.154435e-06 reg 5.274997e+03 train accuracy: 0.355633 val accuracy: 0.370000\n",
      "lr 2.154435e-06 reg 8.799225e+03 train accuracy: 0.340612 val accuracy: 0.346000\n",
      "lr 2.154435e-06 reg 1.467799e+04 train accuracy: 0.317020 val accuracy: 0.324000\n",
      "lr 2.154435e-06 reg 2.448437e+04 train accuracy: 0.307837 val accuracy: 0.339000\n",
      "lr 2.154435e-06 reg 4.084239e+04 train accuracy: 0.277714 val accuracy: 0.289000\n",
      "lr 2.154435e-06 reg 6.812921e+04 train accuracy: 0.272837 val accuracy: 0.262000\n",
      "lr 2.154435e-06 reg 1.136464e+05 train accuracy: 0.242490 val accuracy: 0.260000\n",
      "lr 2.154435e-06 reg 1.895736e+05 train accuracy: 0.211735 val accuracy: 0.222000\n",
      "lr 2.154435e-06 reg 3.162278e+05 train accuracy: 0.099857 val accuracy: 0.108000\n",
      "lr 4.641589e-06 reg 3.162278e+03 train accuracy: 0.341286 val accuracy: 0.353000\n",
      "lr 4.641589e-06 reg 5.274997e+03 train accuracy: 0.299980 val accuracy: 0.300000\n",
      "lr 4.641589e-06 reg 8.799225e+03 train accuracy: 0.296653 val accuracy: 0.289000\n",
      "lr 4.641589e-06 reg 1.467799e+04 train accuracy: 0.260163 val accuracy: 0.248000\n",
      "lr 4.641589e-06 reg 2.448437e+04 train accuracy: 0.215449 val accuracy: 0.217000\n",
      "lr 4.641589e-06 reg 4.084239e+04 train accuracy: 0.219735 val accuracy: 0.217000\n",
      "lr 4.641589e-06 reg 6.812921e+04 train accuracy: 0.135980 val accuracy: 0.129000\n",
      "lr 4.641589e-06 reg 1.136464e+05 train accuracy: 0.119939 val accuracy: 0.131000\n",
      "lr 4.641589e-06 reg 1.895736e+05 train accuracy: 0.098347 val accuracy: 0.099000\n",
      "lr 4.641589e-06 reg 3.162278e+05 train accuracy: 0.100265 val accuracy: 0.087000\n",
      "lr 1.000000e-05 reg 3.162278e+03 train accuracy: 0.197429 val accuracy: 0.223000\n",
      "lr 1.000000e-05 reg 5.274997e+03 train accuracy: 0.261408 val accuracy: 0.275000\n",
      "lr 1.000000e-05 reg 8.799225e+03 train accuracy: 0.168694 val accuracy: 0.181000\n",
      "lr 1.000000e-05 reg 1.467799e+04 train accuracy: 0.190776 val accuracy: 0.198000\n",
      "lr 1.000000e-05 reg 2.448437e+04 train accuracy: 0.165245 val accuracy: 0.153000\n",
      "lr 1.000000e-05 reg 4.084239e+04 train accuracy: 0.108224 val accuracy: 0.128000\n",
      "lr 1.000000e-05 reg 6.812921e+04 train accuracy: 0.096469 val accuracy: 0.092000\n",
      "lr 1.000000e-05 reg 1.136464e+05 train accuracy: 0.057673 val accuracy: 0.048000\n",
      "lr 1.000000e-05 reg 1.895736e+05 train accuracy: 0.100265 val accuracy: 0.087000\n",
      "lr 1.000000e-05 reg 3.162278e+05 train accuracy: 0.100265 val accuracy: 0.087000\n",
      "best validation accuracy achieved during cross-validation: 0.386000\n"
     ]
    }
   ],
   "source": [
    "# Use the validation set to tune hyperparameters (regularization strength and\n",
    "# learning rate). You should experiment with different ranges for the learning\n",
    "# rates and regularization strengths; if you are careful you should be able to\n",
    "# get a classification accuracy of over 0.35 on the validation set.\n",
    "from cs231n.classifiers import Softmax\n",
    "results = {}\n",
    "best_val = -1\n",
    "best_softmax = None\n",
    "learning_rates = np.logspace(-5, -8, 10)\n",
    "regularization_strengths = np.logspace(3.5, 5.5, 10)\n",
    "\n",
    "################################################################################\n",
    "# TODO:                                                                        #\n",
    "# Use the validation set to set the learning rate and regularization strength. #\n",
    "# This should be identical to the validation that you did for the SVM; save    #\n",
    "# the best trained softmax classifer in best_softmax.                          #\n",
    "################################################################################\n",
    "import heapq\n",
    "heap = []\n",
    "for learning_rate in learning_rates:\n",
    "    for regularization_strength in regularization_strengths:\n",
    "        svm = Softmax()\n",
    "        svm.train(X_train, y_train, learning_rate=learning_rate,\n",
    "                              reg=regularization_strength, num_iters=500, verbose=False)\n",
    "        y_train_pred = svm.predict(X_train)\n",
    "        y_val_pred = svm.predict(X_val)\n",
    "        train_accuracy = np.mean(y_train_pred == y_train)\n",
    "        validation_accuracy = np.mean(y_val == y_val_pred)\n",
    "        results[learning_rate, regularization_strength] = (train_accuracy, validation_accuracy)\n",
    "        if validation_accuracy > best_val:\n",
    "            best_val = validation_accuracy\n",
    "            best_softmax = svm\n",
    "            print(learning_rate, regularization_strength, validation_accuracy)\n",
    "        heapq.heappush(heap, (validation_accuracy, (learning_rate, regularization_strength)))\n",
    "        \n",
    "for i in range(10):\n",
    "    valid, (learning_rate, regularization_strength) = heapq.heappop(heap)\n",
    "    svm = Softmax()\n",
    "    svm.train(X_train, y_train, learning_rate=learning_rate,\n",
    "                          reg=regularization_strength, num_iters=1500, verbose=False)\n",
    "    y_train_pred = svm.predict(X_train)\n",
    "    y_val_pred = svm.predict(X_val)\n",
    "    train_accuracy = np.mean(y_train_pred == y_train)\n",
    "    validation_accuracy = np.mean(y_val == y_val_pred)\n",
    "    results[learning_rate, regularization_strength] = (train_accuracy, validation_accuracy)\n",
    "    if validation_accuracy > best_val:\n",
    "        best_val = validation_accuracy\n",
    "        best_softmax = svm\n",
    "        print(learning_rate, regularization_strength, validation_accuracy)\n",
    "################################################################################\n",
    "#                              END OF YOUR CODE                                #\n",
    "################################################################################\n",
    "    \n",
    "# Print out results.\n",
    "for lr, reg in sorted(results):\n",
    "    train_accuracy, val_accuracy = results[(lr, reg)]\n",
    "    print('lr %e reg %e train accuracy: %f val accuracy: %f' % (\n",
    "                lr, reg, train_accuracy, val_accuracy))\n",
    "    \n",
    "print('best validation accuracy achieved during cross-validation: %f' % best_val)"
   ]
  },
  {
   "cell_type": "code",
   "execution_count": 22,
   "metadata": {
    "collapsed": false
   },
   "outputs": [
    {
     "name": "stdout",
     "output_type": "stream",
     "text": [
      "softmax on raw pixels final test set accuracy: 0.369000\n"
     ]
    }
   ],
   "source": [
    "# evaluate on test set\n",
    "# Evaluate the best softmax on test set\n",
    "y_test_pred = best_softmax.predict(X_test)\n",
    "test_accuracy = np.mean(y_test == y_test_pred)\n",
    "print('softmax on raw pixels final test set accuracy: %f' % (test_accuracy, ))"
   ]
  },
  {
   "cell_type": "code",
   "execution_count": 23,
   "metadata": {
    "collapsed": false
   },
   "outputs": [
    {
     "data": {
      "image/png": "[encoded data removed]",
      "text/plain": [
       "<matplotlib.figure.Figure at 0x7f46cc7b4198>"
      ]
     },
     "metadata": {},
     "output_type": "display_data"
    }
   ],
   "source": [
    "# Visualize the learned weights for each class\n",
    "w = best_softmax.W[:-1,:] # strip out the bias\n",
    "w = w.reshape(32, 32, 3, 10)\n",
    "\n",
    "w_min, w_max = np.min(w), np.max(w)\n",
    "\n",
    "classes = ['plane', 'car', 'bird', 'cat', 'deer', 'dog', 'frog', 'horse', 'ship', 'truck']\n",
    "for i in range(10):\n",
    "    plt.subplot(2, 5, i + 1)\n",
    "    \n",
    "    # Rescale the weights to be between 0 and 255\n",
    "    wimg = 255.0 * (w[:, :, :, i].squeeze() - w_min) / (w_max - w_min)\n",
    "    plt.imshow(wimg.astype('uint8'))\n",
    "    plt.axis('off')\n",
    "    plt.title(classes[i])"
   ]
  },
  {
   "cell_type": "code",
   "execution_count": null,
   "metadata": {
    "collapsed": true
   },
   "outputs": [],
   "source": [
    "tt"
   ]
  }
 ],
 "metadata": {
  "anaconda-cloud": {},
  "kernelspec": {
   "display_name": "Python [conda root]",
   "language": "python",
   "name": "conda-root-py"
  },
  "language_info": {
   "codemirror_mode": {
    "name": "ipython",
    "version": 3
   },
   "file_extension": ".py",
   "mimetype": "text/x-python",
   "name": "python",
   "nbconvert_exporter": "python",
   "pygments_lexer": "ipython3",
   "version": "3.5.2"
  }
 },
 "nbformat": 4,
 "nbformat_minor": 0
}
